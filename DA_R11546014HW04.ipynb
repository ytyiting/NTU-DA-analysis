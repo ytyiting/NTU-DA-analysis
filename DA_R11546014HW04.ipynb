{
 "cells": [
  {
   "cell_type": "code",
   "execution_count": 1,
   "metadata": {},
   "outputs": [],
   "source": [
    "import pandas as pd\n",
    "import numpy as np"
   ]
  },
  {
   "attachments": {},
   "cell_type": "markdown",
   "metadata": {},
   "source": [
    "# 第五題\n",
    "\n",
    "The relationship of size and shape for painted turtles are studied by Jolicoeur & Mosimann\\*. The\n",
    "measurements on the carapaces of 24 female and 24 male turtles can be seen in the following table.\n",
    "\n",
    "(10%) Test if the mean vectors of the two populations are equal, given 𝛼 = 0.05.\n",
    "Hint: You may wish to consider log transformation on the observations\n"
   ]
  },
  {
   "attachments": {},
   "cell_type": "markdown",
   "metadata": {},
   "source": [
    "## load data\n"
   ]
  },
  {
   "cell_type": "code",
   "execution_count": 2,
   "metadata": {},
   "outputs": [
    {
     "data": {
      "text/html": [
       "<div>\n",
       "<style scoped>\n",
       "    .dataframe tbody tr th:only-of-type {\n",
       "        vertical-align: middle;\n",
       "    }\n",
       "\n",
       "    .dataframe tbody tr th {\n",
       "        vertical-align: top;\n",
       "    }\n",
       "\n",
       "    .dataframe thead th {\n",
       "        text-align: right;\n",
       "    }\n",
       "</style>\n",
       "<table border=\"1\" class=\"dataframe\">\n",
       "  <thead>\n",
       "    <tr style=\"text-align: right;\">\n",
       "      <th></th>\n",
       "      <th>Female_Length(x1)</th>\n",
       "      <th>Female_Width(x2)</th>\n",
       "      <th>Female_Height(x3)</th>\n",
       "      <th>Male_Length(x1)</th>\n",
       "      <th>Male_Width(x2)</th>\n",
       "      <th>Male_Height(x3)</th>\n",
       "    </tr>\n",
       "  </thead>\n",
       "  <tbody>\n",
       "    <tr>\n",
       "      <th>0</th>\n",
       "      <td>98</td>\n",
       "      <td>81</td>\n",
       "      <td>38</td>\n",
       "      <td>93</td>\n",
       "      <td>74</td>\n",
       "      <td>37</td>\n",
       "    </tr>\n",
       "    <tr>\n",
       "      <th>1</th>\n",
       "      <td>103</td>\n",
       "      <td>84</td>\n",
       "      <td>38</td>\n",
       "      <td>94</td>\n",
       "      <td>78</td>\n",
       "      <td>35</td>\n",
       "    </tr>\n",
       "    <tr>\n",
       "      <th>2</th>\n",
       "      <td>103</td>\n",
       "      <td>86</td>\n",
       "      <td>42</td>\n",
       "      <td>96</td>\n",
       "      <td>80</td>\n",
       "      <td>35</td>\n",
       "    </tr>\n",
       "    <tr>\n",
       "      <th>3</th>\n",
       "      <td>105</td>\n",
       "      <td>86</td>\n",
       "      <td>42</td>\n",
       "      <td>101</td>\n",
       "      <td>84</td>\n",
       "      <td>39</td>\n",
       "    </tr>\n",
       "    <tr>\n",
       "      <th>4</th>\n",
       "      <td>109</td>\n",
       "      <td>88</td>\n",
       "      <td>44</td>\n",
       "      <td>102</td>\n",
       "      <td>85</td>\n",
       "      <td>38</td>\n",
       "    </tr>\n",
       "  </tbody>\n",
       "</table>\n",
       "</div>"
      ],
      "text/plain": [
       "   Female_Length(x1)  Female_Width(x2)  Female_Height(x3)  Male_Length(x1)  \\\n",
       "0                 98                81                 38               93   \n",
       "1                103                84                 38               94   \n",
       "2                103                86                 42               96   \n",
       "3                105                86                 42              101   \n",
       "4                109                88                 44              102   \n",
       "\n",
       "   Male_Width(x2)  Male_Height(x3)  \n",
       "0              74               37  \n",
       "1              78               35  \n",
       "2              80               35  \n",
       "3              84               39  \n",
       "4              85               38  "
      ]
     },
     "metadata": {},
     "output_type": "display_data"
    },
    {
     "name": "stdout",
     "output_type": "stream",
     "text": [
      "df.shape=(24, 6)\n"
     ]
    }
   ],
   "source": [
    "df05 = pd.read_excel('HW5.xlsx')\n",
    "display(df05.head())\n",
    "print(f'df.shape={df05.shape}')"
   ]
  },
  {
   "attachments": {},
   "cell_type": "markdown",
   "metadata": {},
   "source": [
    "### log transformation\n"
   ]
  },
  {
   "cell_type": "code",
   "execution_count": 3,
   "metadata": {},
   "outputs": [
    {
     "data": {
      "text/html": [
       "<div>\n",
       "<style scoped>\n",
       "    .dataframe tbody tr th:only-of-type {\n",
       "        vertical-align: middle;\n",
       "    }\n",
       "\n",
       "    .dataframe tbody tr th {\n",
       "        vertical-align: top;\n",
       "    }\n",
       "\n",
       "    .dataframe thead th {\n",
       "        text-align: right;\n",
       "    }\n",
       "</style>\n",
       "<table border=\"1\" class=\"dataframe\">\n",
       "  <thead>\n",
       "    <tr style=\"text-align: right;\">\n",
       "      <th></th>\n",
       "      <th>Female_Length(x1)</th>\n",
       "      <th>Female_Width(x2)</th>\n",
       "      <th>Female_Height(x3)</th>\n",
       "      <th>Male_Length(x1)</th>\n",
       "      <th>Male_Width(x2)</th>\n",
       "      <th>Male_Height(x3)</th>\n",
       "    </tr>\n",
       "  </thead>\n",
       "  <tbody>\n",
       "    <tr>\n",
       "      <th>0</th>\n",
       "      <td>4.584967</td>\n",
       "      <td>4.394449</td>\n",
       "      <td>3.637586</td>\n",
       "      <td>4.532599</td>\n",
       "      <td>4.304065</td>\n",
       "      <td>3.610918</td>\n",
       "    </tr>\n",
       "    <tr>\n",
       "      <th>1</th>\n",
       "      <td>4.634729</td>\n",
       "      <td>4.430817</td>\n",
       "      <td>3.637586</td>\n",
       "      <td>4.543295</td>\n",
       "      <td>4.356709</td>\n",
       "      <td>3.555348</td>\n",
       "    </tr>\n",
       "    <tr>\n",
       "      <th>2</th>\n",
       "      <td>4.634729</td>\n",
       "      <td>4.454347</td>\n",
       "      <td>3.737670</td>\n",
       "      <td>4.564348</td>\n",
       "      <td>4.382027</td>\n",
       "      <td>3.555348</td>\n",
       "    </tr>\n",
       "    <tr>\n",
       "      <th>3</th>\n",
       "      <td>4.653960</td>\n",
       "      <td>4.454347</td>\n",
       "      <td>3.737670</td>\n",
       "      <td>4.615121</td>\n",
       "      <td>4.430817</td>\n",
       "      <td>3.663562</td>\n",
       "    </tr>\n",
       "    <tr>\n",
       "      <th>4</th>\n",
       "      <td>4.691348</td>\n",
       "      <td>4.477337</td>\n",
       "      <td>3.784190</td>\n",
       "      <td>4.624973</td>\n",
       "      <td>4.442651</td>\n",
       "      <td>3.637586</td>\n",
       "    </tr>\n",
       "  </tbody>\n",
       "</table>\n",
       "</div>"
      ],
      "text/plain": [
       "   Female_Length(x1)  Female_Width(x2)  Female_Height(x3)  Male_Length(x1)  \\\n",
       "0           4.584967          4.394449           3.637586         4.532599   \n",
       "1           4.634729          4.430817           3.637586         4.543295   \n",
       "2           4.634729          4.454347           3.737670         4.564348   \n",
       "3           4.653960          4.454347           3.737670         4.615121   \n",
       "4           4.691348          4.477337           3.784190         4.624973   \n",
       "\n",
       "   Male_Width(x2)  Male_Height(x3)  \n",
       "0        4.304065         3.610918  \n",
       "1        4.356709         3.555348  \n",
       "2        4.382027         3.555348  \n",
       "3        4.430817         3.663562  \n",
       "4        4.442651         3.637586  "
      ]
     },
     "execution_count": 3,
     "metadata": {},
     "output_type": "execute_result"
    }
   ],
   "source": [
    "for column in df05.columns:\n",
    "    df05[column] = np.log(df05[column])\n",
    "\n",
    "df05.head()"
   ]
  },
  {
   "attachments": {},
   "cell_type": "markdown",
   "metadata": {},
   "source": [
    "## Hypothesis testing\n",
    "\n",
    "$$H_0: mean_{Female\\space Length(x1)}=mean_{Male\\space Length(x1)},mean_{Female\\space Width(x2)}=mean_{Male\\space Width(x2)},mean_{Female\\space Height(x3)}=mean_{Male\\space Height(x3)}$$\n",
    "$$H_1: H_0\\space is\\space not\\space true$$\n",
    "$$ n_1=n_2=24, X_1: male, X_2: female$$\n"
   ]
  },
  {
   "cell_type": "code",
   "execution_count": 4,
   "metadata": {},
   "outputs": [
    {
     "name": "stdout",
     "output_type": "stream",
     "text": [
      "male_mean=array([[4.72544365],\n",
      "       [4.47757377],\n",
      "       [3.70318579]])\n",
      "Female_mean=array([[4.90065934],\n",
      "       [4.62290892],\n",
      "       [3.94028575]])\n"
     ]
    }
   ],
   "source": [
    "Mmean1 = (df05['Male_Length(x1)']).mean()\n",
    "Mmean2 = (df05['Male_Width(x2)']).mean()\n",
    "Mmean3 = (df05['Male_Height(x3)']).mean()\n",
    "\n",
    "Femean1 = (df05['Female_Length(x1)']).mean()\n",
    "Femean2 = (df05['Female_Width(x2)']).mean()\n",
    "Femean3 = (df05['Female_Height(x3)']).mean()\n",
    "\n",
    "male_mean = np.row_stack((Mmean1, Mmean2, Mmean3))\n",
    "Female_mean = np.row_stack((Femean1, Femean2, Femean3))\n",
    "\n",
    "print(f'{male_mean=}\\n{Female_mean=}')"
   ]
  },
  {
   "cell_type": "code",
   "execution_count": 5,
   "metadata": {},
   "outputs": [],
   "source": [
    "Male_stack = np.column_stack(\n",
    "    (df05['Male_Length(x1)'], df05['Male_Width(x2)'], df05['Male_Height(x3)']))\n",
    "Female_stack = np.column_stack(\n",
    "    (df05['Female_Length(x1)'], df05['Female_Width(x2)'], df05['Female_Height(x3)']))"
   ]
  },
  {
   "attachments": {},
   "cell_type": "markdown",
   "metadata": {},
   "source": [
    "### sample variance and covariance matrix\n",
    "\n",
    "$$ S=1/(n-1)*X_i^T*(I-1/n*J)*X_i$$"
   ]
  },
  {
   "cell_type": "code",
   "execution_count": 10,
   "metadata": {},
   "outputs": [
    {
     "data": {
      "text/plain": [
       "array([[0.011072  , 0.00801914, 0.00815965],\n",
       "       [0.00801914, 0.00641673, 0.00600527],\n",
       "       [0.00815965, 0.00600527, 0.00677276]])"
      ]
     },
     "metadata": {},
     "output_type": "display_data"
    },
    {
     "data": {
      "text/plain": [
       "array([[0.02640563, 0.02011195, 0.02491758],\n",
       "       [0.02011195, 0.01619045, 0.0194243 ],\n",
       "       [0.02491758, 0.0194243 , 0.0249398 ]])"
      ]
     },
     "metadata": {},
     "output_type": "display_data"
    }
   ],
   "source": [
    "n = df05.shape[0]\n",
    "I = np.diag(np.ones(n), 0)\n",
    "J = np.ones((n, n))\n",
    "\n",
    "male_VC = 1/(n-1)*np.dot(np.dot(Male_stack.T, (I-1/n*J)), Male_stack)\n",
    "Female_VC = 1/(n-1)*np.dot(np.dot(Female_stack.T, (I-1/n*J)), Female_stack)\n",
    "display(male_VC, Female_VC)"
   ]
  },
  {
   "attachments": {},
   "cell_type": "markdown",
   "metadata": {},
   "source": [
    "### spooled\n",
    "\n",
    "$$(n_1-1)/(n_1+n_2-2)*X_1+(n_2-1)/(n_1+n_2-2)*X_2$$\n"
   ]
  },
  {
   "cell_type": "code",
   "execution_count": 9,
   "metadata": {},
   "outputs": [
    {
     "data": {
      "text/plain": [
       "array([[0.01873882, 0.01406555, 0.01653862],\n",
       "       [0.01406555, 0.01130359, 0.01271478],\n",
       "       [0.01653862, 0.01271478, 0.01585628]])"
      ]
     },
     "execution_count": 9,
     "metadata": {},
     "output_type": "execute_result"
    }
   ],
   "source": [
    "S_pool = (n-1)/(n+n-2)*male_VC+(n-1)/(n+n-2)*Female_VC\n",
    "S_pool"
   ]
  },
  {
   "cell_type": "code",
   "execution_count": 12,
   "metadata": {},
   "outputs": [
    {
     "data": {
      "text/plain": [
       "array([[-0.17521569],\n",
       "       [-0.14533516],\n",
       "       [-0.23709996]])"
      ]
     },
     "execution_count": 12,
     "metadata": {},
     "output_type": "execute_result"
    }
   ],
   "source": [
    "Mean_Male_minus_Female = male_mean-Female_mean\n",
    "Mean_Male_minus_Female"
   ]
  },
  {
   "attachments": {},
   "cell_type": "markdown",
   "metadata": {},
   "source": [
    "### T_squared\n",
    "\n",
    "$$T^2=(\\bar X*1-\\bar X_2)^T*((1/n_1+1/n_2)*S*{Pool})*(\\bar X_1-\\bar X_2)$$\n",
    "\n"
   ]
  },
  {
   "cell_type": "code",
   "execution_count": 14,
   "metadata": {},
   "outputs": [
    {
     "name": "stdout",
     "output_type": "stream",
     "text": [
      "T_squared=array([[85.05200061]])\n"
     ]
    }
   ],
   "source": [
    "T_squared = np.dot(np.dot(Mean_Male_minus_Female.T, np.linalg.inv(\n",
    "    (1/n+1/n)*S_pool)), Mean_Male_minus_Female)\n",
    "print(f'{T_squared=}')"
   ]
  },
  {
   "attachments": {},
   "cell_type": "markdown",
   "metadata": {},
   "source": [
    "### conclusion\n",
    "\n",
    "$$T^2=85.052 > (n1+n2-2)*p/(n1+n2-p-1) * F_{p,n1+n2-p-1} = 46*3/44 *F_{3,44} = 8.842 $$\n",
    "有顯著證據顯示拒絕 H0\n"
   ]
  },
  {
   "attachments": {},
   "cell_type": "markdown",
   "metadata": {},
   "source": [
    "# 第六題\n"
   ]
  },
  {
   "cell_type": "code",
   "execution_count": 15,
   "metadata": {},
   "outputs": [],
   "source": [
    "from statsmodels.multivariate.manova import MANOVA"
   ]
  },
  {
   "attachments": {},
   "cell_type": "markdown",
   "metadata": {},
   "source": [
    "### (a) Treating the cell means as individual observations, perform two MANOVAs to test for the species effect and the nutrient effect, respectively, with 𝛼 = 0.05"
   ]
  },
  {
   "cell_type": "code",
   "execution_count": 86,
   "metadata": {},
   "outputs": [
    {
     "data": {
      "text/html": [
       "<div>\n",
       "<style scoped>\n",
       "    .dataframe tbody tr th:only-of-type {\n",
       "        vertical-align: middle;\n",
       "    }\n",
       "\n",
       "    .dataframe tbody tr th {\n",
       "        vertical-align: top;\n",
       "    }\n",
       "\n",
       "    .dataframe thead th {\n",
       "        text-align: right;\n",
       "    }\n",
       "</style>\n",
       "<table border=\"1\" class=\"dataframe\">\n",
       "  <thead>\n",
       "    <tr style=\"text-align: right;\">\n",
       "      <th></th>\n",
       "      <th>CM560</th>\n",
       "      <th>CM720</th>\n",
       "      <th>Species</th>\n",
       "      <th>Nutrient</th>\n",
       "    </tr>\n",
       "  </thead>\n",
       "  <tbody>\n",
       "    <tr>\n",
       "      <th>0</th>\n",
       "      <td>10.35</td>\n",
       "      <td>25.93</td>\n",
       "      <td>SS</td>\n",
       "      <td>+</td>\n",
       "    </tr>\n",
       "    <tr>\n",
       "      <th>1</th>\n",
       "      <td>13.41</td>\n",
       "      <td>38.63</td>\n",
       "      <td>JL</td>\n",
       "      <td>+</td>\n",
       "    </tr>\n",
       "    <tr>\n",
       "      <th>2</th>\n",
       "      <td>7.78</td>\n",
       "      <td>25.15</td>\n",
       "      <td>LP</td>\n",
       "      <td>+</td>\n",
       "    </tr>\n",
       "    <tr>\n",
       "      <th>3</th>\n",
       "      <td>10.40</td>\n",
       "      <td>24.25</td>\n",
       "      <td>SS</td>\n",
       "      <td>-</td>\n",
       "    </tr>\n",
       "    <tr>\n",
       "      <th>4</th>\n",
       "      <td>17.78</td>\n",
       "      <td>41.45</td>\n",
       "      <td>JL</td>\n",
       "      <td>-</td>\n",
       "    </tr>\n",
       "    <tr>\n",
       "      <th>5</th>\n",
       "      <td>10.40</td>\n",
       "      <td>29.20</td>\n",
       "      <td>LP</td>\n",
       "      <td>-</td>\n",
       "    </tr>\n",
       "  </tbody>\n",
       "</table>\n",
       "</div>"
      ],
      "text/plain": [
       "   CM560  CM720 Species Nutrient\n",
       "0  10.35  25.93      SS        +\n",
       "1  13.41  38.63      JL        +\n",
       "2   7.78  25.15      LP        +\n",
       "3  10.40  24.25      SS        -\n",
       "4  17.78  41.45      JL        -\n",
       "5  10.40  29.20      LP        -"
      ]
     },
     "execution_count": 86,
     "metadata": {},
     "output_type": "execute_result"
    }
   ],
   "source": [
    "df06 = pd.DataFrame({'CM560': [10.35, 13.41, 7.78, 10.40, 17.78, 10.4],\n",
    "                     'CM720': [25.93, 38.63, 25.15, 24.25, 41.45, 29.20],\n",
    "                     'Species': ['SS', 'JL', 'LP', 'SS', 'JL', 'LP'],\n",
    "                     'Nutrient': ['+', '+', '+', '-', '-', '-']})\n",
    "df06"
   ]
  },
  {
   "cell_type": "code",
   "execution_count": 101,
   "metadata": {},
   "outputs": [
    {
     "name": "stdout",
     "output_type": "stream",
     "text": [
      "                  Multivariate linear model\n",
      "==============================================================\n",
      "                                                              \n",
      "--------------------------------------------------------------\n",
      "       Intercept         Value   Num DF Den DF F Value  Pr > F\n",
      "--------------------------------------------------------------\n",
      "          Wilks' lambda   0.0023 2.0000 2.0000 429.4225 0.0023\n",
      "         Pillai's trace   0.9977 2.0000 2.0000 429.4225 0.0023\n",
      " Hotelling-Lawley trace 429.4225 2.0000 1.0000 214.7112 0.0482\n",
      "    Roy's greatest root 429.4225 2.0000 2.0000 429.4225 0.0023\n",
      "--------------------------------------------------------------\n",
      "                                                              \n",
      "--------------------------------------------------------------\n",
      "         C(Species)        Value  Num DF Den DF F Value Pr > F\n",
      "--------------------------------------------------------------\n",
      "            Wilks' lambda  0.0159 4.0000 4.0000  6.9238 0.0438\n",
      "           Pillai's trace  1.4034 4.0000 6.0000  3.5281 0.0824\n",
      "   Hotelling-Lawley trace 35.4610 4.0000 2.0000  8.8653 0.1039\n",
      "      Roy's greatest root 34.7024 2.0000 3.0000 52.0537 0.0047\n",
      "==============================================================\n",
      "\n"
     ]
    }
   ],
   "source": [
    "fit = MANOVA.from_formula('CM560 + CM720  ~ Species', data=df06)\n",
    "print(fit.mv_test())"
   ]
  },
  {
   "attachments": {},
   "cell_type": "markdown",
   "metadata": {},
   "source": [
    "使用package: statsmodels.multivariate.manova\\\n",
    "MANOVA for Species: P-value=0.0438<0.05 -> 有顯著證據顯示拒絕H0"
   ]
  },
  {
   "cell_type": "code",
   "execution_count": 100,
   "metadata": {},
   "outputs": [
    {
     "name": "stdout",
     "output_type": "stream",
     "text": [
      "                 Multivariate linear model\n",
      "============================================================\n",
      "                                                            \n",
      "------------------------------------------------------------\n",
      "       Intercept         Value  Num DF Den DF F Value Pr > F\n",
      "------------------------------------------------------------\n",
      "          Wilks' lambda  0.0812 2.0000 3.0000 16.9782 0.0231\n",
      "         Pillai's trace  0.9188 2.0000 3.0000 16.9782 0.0231\n",
      " Hotelling-Lawley trace 11.3188 2.0000 3.0000 16.9782 0.0231\n",
      "    Roy's greatest root 11.3188 2.0000 3.0000 16.9782 0.0231\n",
      "------------------------------------------------------------\n",
      "                                                            \n",
      "------------------------------------------------------------\n",
      "       C(Nutrient)       Value  Num DF Den DF F Value Pr > F\n",
      "------------------------------------------------------------\n",
      "           Wilks' lambda 0.6114 2.0000 3.0000  0.9535 0.4780\n",
      "          Pillai's trace 0.3886 2.0000 3.0000  0.9535 0.4780\n",
      "  Hotelling-Lawley trace 0.6357 2.0000 3.0000  0.9535 0.4780\n",
      "     Roy's greatest root 0.6357 2.0000 3.0000  0.9535 0.4780\n",
      "============================================================\n",
      "\n"
     ]
    }
   ],
   "source": [
    "fit = MANOVA.from_formula('CM560 + CM720 ~ Nutrient', data=df06)\n",
    "print(fit.mv_test())"
   ]
  },
  {
   "attachments": {},
   "cell_type": "markdown",
   "metadata": {},
   "source": [
    "MANOVA for Nutrient: P-value=0.4780>0.05 -> 無顯著證據顯示拒絕H0"
   ]
  },
  {
   "attachments": {},
   "cell_type": "markdown",
   "metadata": {},
   "source": [
    "### (b) Construct a two-way ANOVA for the 560CM observations and another two-way ANOVA for the 720CM observations. Are these results consistent with the MANOVA results in (a)? If not, can you explain any differences"
   ]
  },
  {
   "attachments": {},
   "cell_type": "markdown",
   "metadata": {},
   "source": [
    "#### 560CM"
   ]
  },
  {
   "cell_type": "code",
   "execution_count": 62,
   "metadata": {},
   "outputs": [],
   "source": [
    "import statsmodels.api as sm\n",
    "from statsmodels.formula.api import ols"
   ]
  },
  {
   "cell_type": "code",
   "execution_count": 85,
   "metadata": {},
   "outputs": [
    {
     "name": "stdout",
     "output_type": "stream",
     "text": [
      "              df     sum_sq    mean_sq          F    PR(>F)\n",
      "C(Species)   2.0  47.476433  23.738217  10.055087  0.090456\n",
      "C(Nutrient)  1.0   8.260267   8.260267   3.498902  0.202321\n",
      "Residual     2.0   4.721633   2.360817        NaN       NaN\n"
     ]
    }
   ],
   "source": [
    "model1 = ols(formula='CM560~C(Species)+C(Nutrient)', data=df06).fit()\n",
    "result1 = sm.stats.anova_lm(model1)\n",
    "print(result1)"
   ]
  },
  {
   "attachments": {},
   "cell_type": "markdown",
   "metadata": {},
   "source": [
    "#### 720CM"
   ]
  },
  {
   "cell_type": "code",
   "execution_count": 80,
   "metadata": {},
   "outputs": [
    {
     "name": "stdout",
     "output_type": "stream",
     "text": [
      "              df      sum_sq     mean_sq          F    PR(>F)\n",
      "C(Species)   2.0  262.238633  131.119317  28.819649  0.033535\n",
      "C(Nutrient)  1.0    4.489350    4.489350   0.986746  0.425217\n",
      "Residual     2.0    9.099300    4.549650        NaN       NaN\n"
     ]
    }
   ],
   "source": [
    "model1 = ols(formula='CM720~C(Species)+C(Nutrient)', data=df06).fit()\n",
    "result1 = sm.stats.anova_lm(model1)\n",
    "print(result1)"
   ]
  },
  {
   "attachments": {},
   "cell_type": "markdown",
   "metadata": {},
   "source": [
    "- 在two-way anova對於\"560CM\"，\"Species\"以及\"Nutrient\"的p-value各自為0.0904, 0.202皆大於0.05，故這兩個因子對560CM無顯著影響\n",
    "- 在two-way anova對於\"720CM\"，\"Species\"以及\"Nutrient\"的p-value各自為0.0335, 0.425，僅\"Species\"之p-value<0.05，故僅\"Species\"對720CM有顯著影響\n",
    "\n",
    "在MANOVA中\n",
    "- for \"Species\": p-value=0.0438<0.05，表\"560CM\"及\"720CM\"皆對\"Species\"有顯著影響\n",
    "- for \"Nutrient\": p-value=0.4780>0.05，表非\"560CM\"及720CM\"皆對\"Nutrient\"有顯著影響\n",
    "\n",
    "造成這個結論的可能性應為Manova會檢測交互因素的綜合影響，然而ANOVA不會捕捉到這種影響"
   ]
  }
 ],
 "metadata": {
  "kernelspec": {
   "display_name": "Python 3",
   "language": "python",
   "name": "python3"
  },
  "language_info": {
   "codemirror_mode": {
    "name": "ipython",
    "version": 3
   },
   "file_extension": ".py",
   "mimetype": "text/x-python",
   "name": "python",
   "nbconvert_exporter": "python",
   "pygments_lexer": "ipython3",
   "version": "3.9.15"
  },
  "orig_nbformat": 4,
  "vscode": {
   "interpreter": {
    "hash": "31f2aee4e71d21fbe5cf8b01ff0e069b9275f58929596ceb00d14d90e3e16cd6"
   }
  }
 },
 "nbformat": 4,
 "nbformat_minor": 2
}
